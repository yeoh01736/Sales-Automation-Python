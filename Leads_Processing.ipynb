{
  "nbformat": 4,
  "nbformat_minor": 0,
  "metadata": {
    "colab": {
      "provenance": [],
      "authorship_tag": "ABX9TyMWWnJpNlka82hSMgF9VsH1",
      "include_colab_link": true
    },
    "kernelspec": {
      "name": "python3",
      "display_name": "Python 3"
    },
    "language_info": {
      "name": "python"
    }
  },
  "cells": [
    {
      "cell_type": "markdown",
      "metadata": {
        "id": "view-in-github",
        "colab_type": "text"
      },
      "source": [
        "<a href=\"https://colab.research.google.com/github/yeoh01736/Sales-Automation-Python/blob/main/Leads_Processing.ipynb\" target=\"_parent\"><img src=\"https://colab.research.google.com/assets/colab-badge.svg\" alt=\"Open In Colab\"/></a>"
      ]
    },
    {
      "cell_type": "code",
      "execution_count": 23,
      "metadata": {
        "colab": {
          "base_uri": "https://localhost:8080/"
        },
        "id": "b5TmGJMW9Kog",
        "outputId": "5468faec-7ef1-43b6-ee03-0db625df2ca9"
      },
      "outputs": [
        {
          "output_type": "stream",
          "name": "stdout",
          "text": [
            "  Name Company        Email       Industry        Application\n",
            "0    A      A1  A@gmail.com        Medical   Image Processing\n",
            "1    B      B2  B@gmail.com     Automotive     Autonomous Car\n",
            "2    C      C3  C@gmail.com          Audio  Signal Processing\n",
            "3    D      D4  D@gmail.com  Semiconductor         Deployment\n",
            "4    E      E5  E@gmail.com  Wireless Comm              Radar\n"
          ]
        }
      ],
      "source": [
        "# First, install the required libraries if running locally:\n",
        "# pip install pandas openpyxl\n",
        "\n",
        "import pandas as pd # Ensure pandas is imported and aliased as 'pd'\n",
        "\n",
        "# Load the leads data (replace with your actual file path)\n",
        "leads = pd.read_excel('leads.xlsx')  # Or use pd.read_csv('leads.csv')\n",
        "\n",
        "# Display the first 5 rows\n",
        "print(leads.head(5))"
      ]
    },
    {
      "cell_type": "code",
      "source": [
        "# Loop through each lead and create a personalized message/email\n",
        "# use triple quotes (\"\"\") to define a multiline f-string\n",
        "# Loop through the first n leads, by using head() before iterrows()\n",
        "for index, row in leads.head(3).iterrows():\n",
        "  message = f\"\"\"Hi {row['Name']},\n",
        "  I noticed your work of doing {row['Application']} in the {row['Industry']} Industry is really impressive.\n",
        "  I'd would love to connect with you to discuss how we can bring more values to your work.\n",
        "  Is this Thursday a good time for coffee chat? :)\n",
        "\n",
        "  Best regards,\n",
        "  [Name]\n",
        "  [Contact]\n",
        "  \"\"\"\n",
        "\n",
        "  print(message)\n",
        "  print(\"-\"*40)"
      ],
      "metadata": {
        "id": "5H7ToAspiXXV",
        "colab": {
          "base_uri": "https://localhost:8080/"
        },
        "outputId": "453573a3-c6cf-4aab-8f2b-dc9d97fe5580"
      },
      "execution_count": 24,
      "outputs": [
        {
          "output_type": "stream",
          "name": "stdout",
          "text": [
            "Hi A,\n",
            "  I noticed your work of doing Image Processing in the Medical Industry is really impressive.\n",
            "  I'd would love to connect with you to discuss how we can bring more values to your work. \n",
            "  Is this Thursday a good time for coffee chat? :)  \n",
            "  \n",
            "  Best regards,\n",
            "  [Name]\n",
            "  [Contact]\n",
            "  \n",
            "----------------------------------------\n",
            "Hi B,\n",
            "  I noticed your work of doing Autonomous Car in the Automotive Industry is really impressive.\n",
            "  I'd would love to connect with you to discuss how we can bring more values to your work. \n",
            "  Is this Thursday a good time for coffee chat? :)  \n",
            "  \n",
            "  Best regards,\n",
            "  [Name]\n",
            "  [Contact]\n",
            "  \n",
            "----------------------------------------\n",
            "Hi C,\n",
            "  I noticed your work of doing Signal Processing in the Audio Industry is really impressive.\n",
            "  I'd would love to connect with you to discuss how we can bring more values to your work. \n",
            "  Is this Thursday a good time for coffee chat? :)  \n",
            "  \n",
            "  Best regards,\n",
            "  [Name]\n",
            "  [Contact]\n",
            "  \n",
            "----------------------------------------\n"
          ]
        }
      ]
    }
  ]
}