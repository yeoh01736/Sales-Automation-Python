{
  "nbformat": 4,
  "nbformat_minor": 0,
  "metadata": {
    "colab": {
      "provenance": [],
      "authorship_tag": "ABX9TyOhXLKBuMMjrQpdJRziT4OL",
      "include_colab_link": true
    },
    "kernelspec": {
      "name": "python3",
      "display_name": "Python 3"
    },
    "language_info": {
      "name": "python"
    }
  },
  "cells": [
    {
      "cell_type": "markdown",
      "metadata": {
        "id": "view-in-github",
        "colab_type": "text"
      },
      "source": [
        "<a href=\"https://colab.research.google.com/github/yeoh01736/Sales-Automation-Python/blob/main/Leads_Processing.ipynb\" target=\"_parent\"><img src=\"https://colab.research.google.com/assets/colab-badge.svg\" alt=\"Open In Colab\"/></a>"
      ]
    },
    {
      "cell_type": "markdown",
      "source": [
        "1. Create Excel with Leads and Load"
      ],
      "metadata": {
        "id": "IRLL-Z8g0dj7"
      }
    },
    {
      "cell_type": "code",
      "execution_count": 33,
      "metadata": {
        "colab": {
          "base_uri": "https://localhost:8080/"
        },
        "id": "b5TmGJMW9Kog",
        "outputId": "7729fdfd-c5e5-49a0-c3ab-e15ccfbb4a9e"
      },
      "outputs": [
        {
          "output_type": "stream",
          "name": "stdout",
          "text": [
            "  Name   Company          Email       Industry        Application\n",
            "0    A  A1 Sales  A@hotmail.com        Medical   Image Processing\n",
            "1    B  B2 Sales  B@hotmail.com     Automotive     Autonomous Car\n",
            "2    C        C3    C@gmail.com          Audio  Signal Processing\n",
            "3    D        D4    D@gmail.com  Semiconductor         Deployment\n",
            "4    E        E5    E@gmail.com  Wireless Comm              Radar\n"
          ]
        }
      ],
      "source": [
        "# First, install the required libraries if running locally:\n",
        "# pip install pandas openpyxl\n",
        "\n",
        "import pandas as pd # Ensure pandas is imported and aliased as 'pd'\n",
        "\n",
        "# Load the leads data (replace with your actual file path)\n",
        "leads = pd.read_excel('leads.xlsx')  # Or use pd.read_csv('leads.csv')\n",
        "\n",
        "# Display the first 5 rows\n",
        "print(leads.head(5))"
      ]
    },
    {
      "cell_type": "markdown",
      "source": [
        "2. Create Personalized Message/Email"
      ],
      "metadata": {
        "id": "UntCO9GP0lzz"
      }
    },
    {
      "cell_type": "code",
      "source": [
        "# Loop through each lead and create a personalized message/email\n",
        "# use triple quotes (\"\"\") to define a multiline f-string\n",
        "# Loop through the first n leads, by using head() before iterrows()\n",
        "for index, row in leads.head(2).iterrows():\n",
        "  message = f\"\"\"Hi {row['Name']},\n",
        "  I noticed your work of doing {row['Application']} in the {row['Industry']} Industry is really impressive.\n",
        "  I'd would love to connect with you to discuss how we can bring more values to your work.\n",
        "  Is this Thursday a good time for coffee chat? :)\n",
        "\n",
        "  Best regards,\n",
        "  [Name]\n",
        "  [Contact]\n",
        "  \"\"\"\n",
        "\n",
        "  print(message)\n",
        "  print(\"-\"*40)"
      ],
      "metadata": {
        "id": "5H7ToAspiXXV",
        "colab": {
          "base_uri": "https://localhost:8080/"
        },
        "outputId": "971c63b8-6ae8-45d7-e19a-dee0fafa9cfb"
      },
      "execution_count": 34,
      "outputs": [
        {
          "output_type": "stream",
          "name": "stdout",
          "text": [
            "Hi A,\n",
            "  I noticed your work of doing Image Processing in the Medical Industry is really impressive.\n",
            "  I'd would love to connect with you to discuss how we can bring more values to your work. \n",
            "  Is this Thursday a good time for coffee chat? :)  \n",
            "  \n",
            "  Best regards,\n",
            "  [Name]\n",
            "  [Contact]\n",
            "  \n",
            "----------------------------------------\n",
            "Hi B,\n",
            "  I noticed your work of doing Autonomous Car in the Automotive Industry is really impressive.\n",
            "  I'd would love to connect with you to discuss how we can bring more values to your work. \n",
            "  Is this Thursday a good time for coffee chat? :)  \n",
            "  \n",
            "  Best regards,\n",
            "  [Name]\n",
            "  [Contact]\n",
            "  \n",
            "----------------------------------------\n"
          ]
        }
      ]
    },
    {
      "cell_type": "markdown",
      "source": [
        "3. Sending Emails with Python (Gmail)"
      ],
      "metadata": {
        "id": "KfcOtk4r0qOT"
      }
    },
    {
      "cell_type": "code",
      "source": [
        "import smtplib\n",
        "from email.message import EmailMessage\n",
        "\n",
        "# Your Gmail credentials\n",
        "EMAIL_ADDRESS = 'XXXXX@gmail.com' #key in your email address\n",
        "EMAIL_PASSWORD = 'XXXXX' #App password, NOT your gmail login\n",
        "\n",
        "for index, row in leads.head(2).iterrows():\n",
        "    msg = EmailMessage()\n",
        "    msg['Subject'] = f'Collaboration opportunity for {row[\"Company\"]}'\n",
        "    msg['From'] = EMAIL_ADDRESS\n",
        "    msg['To'] = row['Email']\n",
        "    msg.set_content(f\"\"\"\n",
        "Hi {row['Name']},\n",
        "\n",
        " I noticed your work of doing {row['Application']} in the {row['Industry']} Industry is really impressive.\n",
        " I'd would love to connect with you to discuss how we can bring more values to your work.\n",
        " Is this Thursday a good time for coffee chat? :)\n",
        "\n",
        " Best regards,\n",
        " [Name]\n",
        " [Contact]\n",
        "  \"\"\" )\n",
        "    #Send the email using Gmail's SMTP server\n",
        "    with smtplib.SMTP_SSL('smtp.gmail.com', 465) as smtp:\n",
        "        smtp.login(EMAIL_ADDRESS, EMAIL_PASSWORD)\n",
        "        smtp.send_message(msg)\n",
        "\n",
        "    print(f\"Email sent to {row['Name']} at {row['Company']}\")"
      ],
      "metadata": {
        "colab": {
          "base_uri": "https://localhost:8080/"
        },
        "id": "hK_eKQkD6iGI",
        "outputId": "5c8c9f3b-bb8a-42ce-90c0-2869349619de"
      },
      "execution_count": 32,
      "outputs": [
        {
          "output_type": "stream",
          "name": "stdout",
          "text": [
            "Email sent to A at A1 Sales\n",
            "Email sent to B at B2 Sales\n"
          ]
        }
      ]
    }
  ]
}