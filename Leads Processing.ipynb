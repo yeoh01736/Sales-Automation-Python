{
  "nbformat": 4,
  "nbformat_minor": 0,
  "metadata": {
    "colab": {
      "provenance": [],
      "authorship_tag": "ABX9TyNDGn9XauE4INBdhp9shshw",
      "include_colab_link": true
    },
    "kernelspec": {
      "name": "python3",
      "display_name": "Python 3"
    },
    "language_info": {
      "name": "python"
    }
  },
  "cells": [
    {
      "cell_type": "markdown",
      "metadata": {
        "id": "view-in-github",
        "colab_type": "text"
      },
      "source": [
        "<a href=\"https://colab.research.google.com/github/yeoh01736/Sales-Automation-Python/blob/main/Leads%20Processing.ipynb\" target=\"_parent\"><img src=\"https://colab.research.google.com/assets/colab-badge.svg\" alt=\"Open In Colab\"/></a>"
      ]
    },
    {
      "cell_type": "code",
      "execution_count": 3,
      "metadata": {
        "colab": {
          "base_uri": "https://localhost:8080/"
        },
        "id": "b5TmGJMW9Kog",
        "outputId": "8ad35982-33a8-4322-ec7b-6f758b8c01b5"
      },
      "outputs": [
        {
          "output_type": "stream",
          "name": "stdout",
          "text": [
            "  Name Company        Email    Industry        Application\n",
            "0    A      A1  A@gmail.com     Medical   Image Processing\n",
            "1    B      B2  B@gmail.com  Automotive     Autonomous Car\n",
            "2    C      C3  C@gmail.com       Audio  Signal Processing\n"
          ]
        }
      ],
      "source": [
        "# First, install the required libraries if running locally:\n",
        "# pip install pandas openpyxl\n",
        "\n",
        "import pandas as pd\n",
        "\n",
        "# Load the leads data (replace with your actual file path)\n",
        "leads = pd.read_excel('leads.xlsx')  # Or use pd.read_csv('leads.csv')\n",
        "\n",
        "# Display the first 5 rows\n",
        "print(leads.head(3))"
      ]
    }
  ]
}